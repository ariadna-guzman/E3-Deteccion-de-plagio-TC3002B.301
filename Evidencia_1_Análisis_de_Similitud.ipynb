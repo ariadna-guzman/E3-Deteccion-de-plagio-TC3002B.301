{
  "nbformat": 4,
  "nbformat_minor": 0,
  "metadata": {
    "colab": {
      "provenance": [],
      "toc_visible": true,
      "include_colab_link": true
    },
    "kernelspec": {
      "name": "python3",
      "display_name": "Python 3"
    },
    "language_info": {
      "name": "python"
    }
  },
  "cells": [
    {
      "cell_type": "markdown",
      "metadata": {
        "id": "view-in-github",
        "colab_type": "text"
      },
      "source": [
        "<a href=\"https://colab.research.google.com/github/ariadna-guzman/E3-Deteccion-de-plagio-TC3002B.301/blob/main/Evidencia_1_An%C3%A1lisis_de_Similitud.ipynb\" target=\"_parent\"><img src=\"https://colab.research.google.com/assets/colab-badge.svg\" alt=\"Open In Colab\"/></a>"
      ]
    },
    {
      "cell_type": "markdown",
      "source": [
        "# Evidencia 1: Análisis de Similitud\n",
        "\n",
        "- Ariadna Jocelyn Guzmán Jiménez A01749373\n",
        "- Jorge Chávez Badillo A01749448\n",
        "- Amy Murakami Tsutsumi A01750185\n"
      ],
      "metadata": {
        "id": "eztatpdFI1Lx"
      }
    },
    {
      "cell_type": "markdown",
      "source": [
        "## Importación de Librerías"
      ],
      "metadata": {
        "id": "wszK8hod4lVM"
      }
    },
    {
      "cell_type": "code",
      "source": [
        "# Kit de herramientas de lenguaje natural\n",
        "import nltk \n",
        "from nltk.stem import PorterStemmer\n",
        "from nltk.util import ngrams\n",
        "# Para el cálculo de la distancia entre párrafos\n",
        "from sklearn.feature_extraction.text import CountVectorizer\n",
        "from sklearn.metrics import pairwise\n",
        "# Para la manipulación y lectura de archivos\n",
        "import os\n",
        "import matplotlib.pyplot as plt\n",
        "from sklearn.metrics import accuracy_score, confusion_matrix, roc_auc_score, roc_curve"
      ],
      "metadata": {
        "id": "CrCgHtbFN21E"
      },
      "execution_count": 26,
      "outputs": []
    },
    {
      "cell_type": "markdown",
      "source": [
        "## Importación de Textos"
      ],
      "metadata": {
        "id": "4-yh4BVqTVhd"
      }
    },
    {
      "cell_type": "code",
      "source": [
        "from google.colab import drive\n",
        "drive.mount('/content/drive')"
      ],
      "metadata": {
        "colab": {
          "base_uri": "https://localhost:8080/"
        },
        "id": "pk8xXMW7TZ-n",
        "outputId": "5b275033-6e0c-4788-c145-87b2ea2b523d"
      },
      "execution_count": 27,
      "outputs": [
        {
          "output_type": "stream",
          "name": "stdout",
          "text": [
            "Drive already mounted at /content/drive; to attempt to forcibly remount, call drive.mount(\"/content/drive\", force_remount=True).\n"
          ]
        }
      ]
    },
    {
      "cell_type": "code",
      "source": [
        "genuinos = '/content/drive/Shareddrives/Desarrollo de Aplicaciones Avanzadas de Ciencias Computacionales/Reto/Evidencia 1/2023-Datasets/Etapa1/documentos-genuinos/'\n",
        "sospechosos = '/content/drive/Shareddrives/Desarrollo de Aplicaciones Avanzadas de Ciencias Computacionales/Reto/Evidencia 1/2023-Datasets/Etapa1/docmentos-sospechosos/'"
      ],
      "metadata": {
        "id": "Ed-npZlBTYX7"
      },
      "execution_count": 28,
      "outputs": []
    },
    {
      "cell_type": "markdown",
      "source": [
        "*Sorted file names*"
      ],
      "metadata": {
        "id": "LBmjB0C3NxsP"
      }
    },
    {
      "cell_type": "code",
      "source": [
        "name_gen = sorted(os.listdir(genuinos))\n",
        "name_sos = sorted(os.listdir(sospechosos))"
      ],
      "metadata": {
        "id": "W7tW5z7zNwPy"
      },
      "execution_count": 29,
      "outputs": []
    },
    {
      "cell_type": "markdown",
      "source": [
        "## Funciones para el Análisis de Similitud "
      ],
      "metadata": {
        "id": "lLfc-rvOXn-B"
      }
    },
    {
      "cell_type": "markdown",
      "source": [
        "### Stemming"
      ],
      "metadata": {
        "id": "id6HYxtkyFaq"
      }
    },
    {
      "cell_type": "code",
      "source": [
        "# Función para aplicar la herramienta de stemming a los párrafos\n",
        "def stemm_parrafo(parrafo):\n",
        "  stemmer = PorterStemmer()\n",
        "  parrafo = parrafo.split()\n",
        "  parrafo_stemm = []\n",
        "\n",
        "  for palabra in parrafo:\n",
        "    palabra_stem = stemmer.stem(palabra)\n",
        "    parrafo_stemm.append(palabra_stem)\n",
        "\n",
        "  parrafo_str = ' '.join(parrafo_stemm)\n",
        "  return parrafo_str"
      ],
      "metadata": {
        "id": "fevAxW0f5y2P"
      },
      "execution_count": 30,
      "outputs": []
    },
    {
      "cell_type": "markdown",
      "source": [
        "### Cálculo de la Distancia entre los Párrafos"
      ],
      "metadata": {
        "id": "rwCAFXKc5cPL"
      }
    },
    {
      "cell_type": "code",
      "source": [
        "# Función para vectrorizar\n",
        "def vectorizar(ngram1, ngram2, n):\n",
        "  lista_ngram = [' '.join(ngram1), ' '.join(ngram2)]\n",
        "  vectorizador = CountVectorizer(ngram_range=(n, n))\n",
        "  vectores_de_palabras = vectorizador.fit_transform(lista_ngram)\n",
        "  vectores_de_palabras = vectores_de_palabras.toarray()\n",
        "  return vectores_de_palabras\n",
        "\n",
        "# Función para calcular las distancias entre párrafos\n",
        "def distancia(parrafo1, parrafo2, n):\n",
        "  parrafo = vectorizar(parrafo1, parrafo2, n)\n",
        "  p1 = parrafo[0]\n",
        "  p2 = parrafo[1]\n",
        "  mat = [p1, p2]\n",
        "  return pairwise.cosine_similarity(mat)"
      ],
      "metadata": {
        "id": "2MSweamj9CLT"
      },
      "execution_count": 31,
      "outputs": []
    },
    {
      "cell_type": "markdown",
      "source": [
        "### N-gramas"
      ],
      "metadata": {
        "id": "72zz7ElB71Nf"
      }
    },
    {
      "cell_type": "code",
      "source": [
        "# Función para crear ngramas\n",
        "def crear_ngram(parrafo, n):\n",
        "  ngram = ngrams(parrafo.split(), n)\n",
        "  ngram_list = []\n",
        "  for elem in ngram:\n",
        "    ngram_list.append(' '.join(elem))\n",
        "  #print(ngram_list)\n",
        "  return ngram_list"
      ],
      "metadata": {
        "id": "laSTHYvP8SrT"
      },
      "execution_count": 32,
      "outputs": []
    },
    {
      "cell_type": "markdown",
      "source": [
        "### Métricas"
      ],
      "metadata": {
        "id": "Eq_xkDjSZiYR"
      }
    },
    {
      "cell_type": "code",
      "source": [
        "# Función para obtener las métricas del modelo\n",
        "def metricas(cf_mat):\n",
        "  precision = cf_mat[0][0] / (cf_mat[0][0] + cf_mat[0][1])\n",
        "  recall = cf_mat[0][0] / (cf_mat[0][0] + cf_mat[1][0])\n",
        "  specificity = cf_mat[1][1] / (cf_mat[1][1] + cf_mat[0][1])\n",
        "  print('Precision: {:.4f}'.format(precision))\n",
        "  print('Recall: {:.4f}'.format(recall))\n",
        "  print('Specificity: {:.4f}'.format(specificity))"
      ],
      "metadata": {
        "id": "ccbpAl-pZlTe"
      },
      "execution_count": 33,
      "outputs": []
    },
    {
      "cell_type": "markdown",
      "source": [
        "### AUC-ROC Curve"
      ],
      "metadata": {
        "id": "wqqN1fJPcZK1"
      }
    },
    {
      "cell_type": "code",
      "source": [
        "# Función para gráficar la AUC-ROC\n",
        "def plot_roc_curve(true_y, y_prob):\n",
        "    fpr, tpr, thresholds = roc_curve(true_y, y_prob)\n",
        "    plt.plot(fpr, tpr)\n",
        "    plt.xlabel('False Positive Rate')\n",
        "    plt.ylabel('True Positive Rate')"
      ],
      "metadata": {
        "id": "XNcg0pjycdzd"
      },
      "execution_count": 34,
      "outputs": []
    },
    {
      "cell_type": "markdown",
      "source": [
        "### Detección de Plagio"
      ],
      "metadata": {
        "id": "XBO3HOdwYCwq"
      }
    },
    {
      "cell_type": "markdown",
      "source": [
        "#### Código Fuente"
      ],
      "metadata": {
        "id": "r9UT9oinYanW"
      }
    },
    {
      "cell_type": "code",
      "source": [
        "files = []\n",
        "distance = []\n",
        "\n",
        "# Función para detectar el plagio usando la similitud de coseno\n",
        "def plag_detection(sos_text):\n",
        "   with open(sospechosos + sos_text, 'r') as file:\n",
        "      datasos = file.read().rstrip()\n",
        "      datasos_str = stemm_parrafo(datasos)\n",
        "      unisos = crear_ngram(datasos_str, 1)\n",
        "   for pathgen in os.listdir(genuinos):\n",
        "      with open(genuinos + pathgen, 'r') as file:\n",
        "        datagen = file.read().rstrip()\n",
        "        datagen_str = stemm_parrafo(datagen)\n",
        "        unigen = crear_ngram(datagen_str, 1)\n",
        "      files.append(pathgen + ' ' + sos_text)\n",
        "      distance.append(distancia(unigen, unisos, 1)[0][1])\n",
        "   bothfiles = files[distance.index(max(distance))]\n",
        "   bothfiles = bothfiles.split(' ')\n",
        "   genfile = bothfiles[0]\n",
        "   sosfile = bothfiles[1]\n",
        "   if max(distance) > 0.7: #target\n",
        "    print(\"El archivo {} tiene alta similitud con el archivo genuino {}. Similitud: {}\".format(sosfile, genfile, max(distance)))\n",
        "\n",
        "plag_detection('FID-01.txt')"
      ],
      "metadata": {
        "colab": {
          "base_uri": "https://localhost:8080/"
        },
        "outputId": "8458527b-d817-4923-f3c5-8cd9372a18c7",
        "id": "yNirAd9lYanY"
      },
      "execution_count": 35,
      "outputs": [
        {
          "output_type": "stream",
          "name": "stdout",
          "text": [
            "El archivo FID-01.txt tiene alta similitud con el archivo genuino org-325.txt. Similitud: 0.9651821742843321\n"
          ]
        }
      ]
    },
    {
      "cell_type": "code",
      "source": [
        "true_labels = []\n",
        "\n",
        "for i in name_sos:\n",
        "  if int(i[4:6]) % 2 == 0:\n",
        "    true_labels.append(1)\n",
        "  else:\n",
        "    true_labels.append(0) \n",
        "# Función para detectar el plagio usando la similitud de coseno para todos los archivos sospechosos\n",
        "def all_plag_detection(n):\n",
        "  pred_labels = []\n",
        "  files = []\n",
        "  distance = []\n",
        "  for pathsos in name_sos:\n",
        "    with open(sospechosos + pathsos, 'r') as file:\n",
        "      datasos = file.read().rstrip()\n",
        "      datasos_str = stemm_parrafo(datasos)\n",
        "      unisos = crear_ngram(datasos_str, n)\n",
        "\n",
        "    for pathgen in name_gen:\n",
        "      with open(genuinos + pathgen, 'r') as file:\n",
        "        datagen = file.read().rstrip()\n",
        "        datagen_str = stemm_parrafo(datagen)\n",
        "        unigen = crear_ngram(datagen_str, n)\n",
        "      distance.append(distancia(unigen, unisos, n)[0][1])\n",
        "      if max(distance) > 0.7: # Target\n",
        "        files.append('P' + ' ' + pathgen + ' ' + pathsos)\n",
        "      else:\n",
        "        files.append('NP' + ' ' + pathgen + ' ' + pathsos)\n",
        "    bothfiles = files[distance.index(max(distance))]\n",
        "    bothfiles = bothfiles.split(' ')\n",
        "    label = bothfiles[0]\n",
        "    genfile = bothfiles[1]\n",
        "    sosfile = bothfiles[2]\n",
        "    #print(files)\n",
        "    if max(distance) > 0.7: # Target\n",
        "      pred_labels.append(0)\n",
        "      print(\"El archivo {} tiene alta similitud con el archivo genuino {}, Similitud: {:.4f}, Status: {}\".format(sosfile, genfile, max(distance), '0'))\n",
        "    else: \n",
        "      pred_labels.append(1)\n",
        "      print(\"El archivo {} tiene baja similitud con el archivo genuino {}, Similitud: {:.4f}, Status: {}\".format(sosfile, genfile, max(distance), '1'))\n",
        "\n",
        "    files = []\n",
        "    distance = []\n",
        "  print(\"Prediction:\\n\", pred_labels)\n",
        "  return pred_labels"
      ],
      "metadata": {
        "id": "RgJvTIupa485"
      },
      "execution_count": 36,
      "outputs": []
    },
    {
      "cell_type": "markdown",
      "source": [
        "## Interpretación a Considerar"
      ],
      "metadata": {
        "id": "8C4w3ig2uhgb"
      }
    },
    {
      "cell_type": "markdown",
      "source": [
        "* Valor de 1: Si la distancia de coseno es igual a 1, significa que los dos vectores son idénticos y están en la misma dirección. Esto indica una similitud máxima entre los vectores, ya que el ángulo entre ellos es cero grados.\n",
        "\n",
        "* Valores cercanos a 1: Cuando la distancia de coseno se acerca a 1, indica una alta similitud entre los vectores. A medida que el valor se acerca a 1, el ángulo entre los vectores se acerca a cero grados y la similitud aumenta.\n",
        "\n",
        "* Valor de 0: Si la distancia de coseno es igual a 0, significa que los vectores son ortogonales entre sí, es decir, están en ángulo recto. Esto indica que no hay similitud entre los vectores.\n",
        "\n",
        "* Valores cercanos a 0: A medida que la distancia de coseno se acerca a 0, indica que los vectores tienen una similitud menor. Cuanto más cercano a cero sea el valor, mayor será el ángulo entre los vectores y menor será la similitud.\n",
        "\n",
        "* Valor de -1: Si la distancia de coseno es igual a -1, significa que los vectores son opuestos entre sí. Están en direcciones completamente opuestas, lo que indica una similitud negativa máxima."
      ],
      "metadata": {
        "id": "ENr97Un5sQKR"
      }
    },
    {
      "cell_type": "markdown",
      "source": [
        "## Análisis de Similitud Usando Unigramas"
      ],
      "metadata": {
        "id": "cyYCkuihWstU"
      }
    },
    {
      "cell_type": "markdown",
      "source": [
        "### Pruebas Unitarias"
      ],
      "metadata": {
        "id": "G6si3QZVshDM"
      }
    },
    {
      "cell_type": "code",
      "source": [
        "pred_unigrama = all_plag_detection(1)\n",
        "print(\"True:\\n\", true_labels)"
      ],
      "metadata": {
        "colab": {
          "base_uri": "https://localhost:8080/"
        },
        "id": "P3SQuSZtePbs",
        "outputId": "09f5a429-db60-4f94-ebc8-163ceaa6b746"
      },
      "execution_count": 37,
      "outputs": [
        {
          "output_type": "stream",
          "name": "stdout",
          "text": [
            "El archivo FID-01.txt tiene alta similitud con el archivo genuino org-325.txt, Similitud: 0.9652, Status: 0\n",
            "El archivo FID-02.txt tiene alta similitud con el archivo genuino org-325.txt, Similitud: 0.7566, Status: 0\n",
            "El archivo FID-03.txt tiene baja similitud con el archivo genuino org-339.txt, Similitud: 0.6794, Status: 1\n",
            "El archivo FID-04.txt tiene baja similitud con el archivo genuino org-413.txt, Similitud: 0.6304, Status: 1\n",
            "El archivo FID-05.txt tiene alta similitud con el archivo genuino org-340.txt, Similitud: 0.8555, Status: 0\n",
            "El archivo FID-06.txt tiene baja similitud con el archivo genuino org-413.txt, Similitud: 0.6681, Status: 1\n",
            "El archivo FID-07.txt tiene alta similitud con el archivo genuino org-356.txt, Similitud: 0.8366, Status: 0\n",
            "El archivo FID-08.txt tiene baja similitud con el archivo genuino org-331.txt, Similitud: 0.5089, Status: 1\n",
            "El archivo FID-09.txt tiene alta similitud con el archivo genuino org-388.txt, Similitud: 0.7767, Status: 0\n",
            "El archivo FID-10.txt tiene baja similitud con el archivo genuino org-352.txt, Similitud: 0.5929, Status: 1\n",
            "El archivo FID-11.txt tiene alta similitud con el archivo genuino org-372.txt, Similitud: 0.9056, Status: 0\n",
            "El archivo FID-12.txt tiene baja similitud con el archivo genuino org-414.txt, Similitud: 0.5555, Status: 1\n",
            "El archivo FID-13.txt tiene alta similitud con el archivo genuino org-396.txt, Similitud: 0.8334, Status: 0\n",
            "El archivo FID-14.txt tiene alta similitud con el archivo genuino org-413.txt, Similitud: 0.7103, Status: 0\n",
            "El archivo FID-15.txt tiene alta similitud con el archivo genuino org-400.txt, Similitud: 0.8234, Status: 0\n",
            "Prediction:\n",
            " [0, 0, 1, 1, 0, 1, 0, 1, 0, 1, 0, 1, 0, 0, 0]\n",
            "True:\n",
            " [0, 1, 0, 1, 0, 1, 0, 1, 0, 1, 0, 1, 0, 1, 0]\n"
          ]
        }
      ]
    },
    {
      "cell_type": "markdown",
      "source": [
        "### Métricas del Modelo"
      ],
      "metadata": {
        "id": "DgbrwG9db6vr"
      }
    },
    {
      "cell_type": "code",
      "source": [
        "print('Accuracy Acore: {:.4f}'.format(accuracy_score(true_labels, pred_unigrama)))\n",
        "cf_mat = confusion_matrix(true_labels, pred_unigrama)\n",
        "print('Confusion Matrix')\n",
        "print(cf_mat)"
      ],
      "metadata": {
        "id": "3NCnNzMLM0hj",
        "colab": {
          "base_uri": "https://localhost:8080/"
        },
        "outputId": "2fd60951-556a-49b9-985a-eb09962903d4"
      },
      "execution_count": 38,
      "outputs": [
        {
          "output_type": "stream",
          "name": "stdout",
          "text": [
            "Accuracy Acore: 0.8000\n",
            "Confusion Matrix\n",
            "[[7 1]\n",
            " [2 5]]\n"
          ]
        }
      ]
    },
    {
      "cell_type": "code",
      "source": [
        "metricas(cf_mat)"
      ],
      "metadata": {
        "colab": {
          "base_uri": "https://localhost:8080/"
        },
        "id": "fdODCZLlRKp6",
        "outputId": "cbc8d8dd-9d9e-4a6d-cc0a-9560856b1968"
      },
      "execution_count": 39,
      "outputs": [
        {
          "output_type": "stream",
          "name": "stdout",
          "text": [
            "Precision: 0.8750\n",
            "Recall: 0.7778\n",
            "Specificity: 0.8333\n"
          ]
        }
      ]
    },
    {
      "cell_type": "markdown",
      "source": [
        "### AUC-ROC Curve"
      ],
      "metadata": {
        "id": "Me19FN5ochU-"
      }
    },
    {
      "cell_type": "code",
      "source": [
        "plot_roc_curve(true_labels, pred_unigrama)\n",
        "print('AUC score: {:.4f}'.format(roc_auc_score(true_labels, pred_unigrama)))"
      ],
      "metadata": {
        "colab": {
          "base_uri": "https://localhost:8080/",
          "height": 466
        },
        "id": "FBG0Z6L-QkFN",
        "outputId": "90b02f43-7f08-44d1-e2ca-c274b2bdff20"
      },
      "execution_count": 40,
      "outputs": [
        {
          "output_type": "stream",
          "name": "stdout",
          "text": [
            "AUC score: 0.7946\n"
          ]
        },
        {
          "output_type": "display_data",
          "data": {
            "text/plain": [
              "<Figure size 640x480 with 1 Axes>"
            ],
            "image/png": "[encoded data removed]"
          },
          "metadata": {}
        }
      ]
    },
    {
      "cell_type": "code",
      "source": [],
      "metadata": {
        "id": "aUXanEUZfIOp"
      },
      "execution_count": 40,
      "outputs": []
    },
    {
      "cell_type": "markdown",
      "source": [
        "## Análisis de Similitud Usando Bigramas"
      ],
      "metadata": {
        "id": "tIjrAhJNfIaf"
      }
    },
    {
      "cell_type": "markdown",
      "source": [
        "### Pruebas Unitarias"
      ],
      "metadata": {
        "id": "dxbHs9kDfIah"
      }
    },
    {
      "cell_type": "code",
      "source": [
        "pred_bigrama = all_plag_detection(2)\n",
        "print(\"True:\\n\", true_labels)"
      ],
      "metadata": {
        "colab": {
          "base_uri": "https://localhost:8080/"
        },
        "outputId": "fe236d9f-0700-48d4-cbe9-917b2b716c93",
        "id": "Pl5y-T5LfIai"
      },
      "execution_count": 41,
      "outputs": [
        {
          "output_type": "stream",
          "name": "stdout",
          "text": [
            "El archivo FID-01.txt tiene alta similitud con el archivo genuino org-325.txt, Similitud: 0.9196, Status: 0\n",
            "El archivo FID-02.txt tiene baja similitud con el archivo genuino org-413.txt, Similitud: 0.6108, Status: 1\n",
            "El archivo FID-03.txt tiene baja similitud con el archivo genuino org-339.txt, Similitud: 0.5263, Status: 1\n",
            "El archivo FID-04.txt tiene baja similitud con el archivo genuino org-413.txt, Similitud: 0.4838, Status: 1\n",
            "El archivo FID-05.txt tiene alta similitud con el archivo genuino org-340.txt, Similitud: 0.7788, Status: 0\n",
            "El archivo FID-06.txt tiene baja similitud con el archivo genuino org-413.txt, Similitud: 0.4767, Status: 1\n",
            "El archivo FID-07.txt tiene alta similitud con el archivo genuino org-356.txt, Similitud: 0.7374, Status: 0\n",
            "El archivo FID-08.txt tiene baja similitud con el archivo genuino org-331.txt, Similitud: 0.3285, Status: 1\n",
            "El archivo FID-09.txt tiene baja similitud con el archivo genuino org-388.txt, Similitud: 0.6186, Status: 1\n",
            "El archivo FID-10.txt tiene baja similitud con el archivo genuino org-352.txt, Similitud: 0.4385, Status: 1\n",
            "El archivo FID-11.txt tiene alta similitud con el archivo genuino org-372.txt, Similitud: 0.8703, Status: 0\n",
            "El archivo FID-12.txt tiene baja similitud con el archivo genuino org-414.txt, Similitud: 0.3982, Status: 1\n",
            "El archivo FID-13.txt tiene alta similitud con el archivo genuino org-396.txt, Similitud: 0.7515, Status: 0\n",
            "El archivo FID-14.txt tiene baja similitud con el archivo genuino org-388.txt, Similitud: 0.5464, Status: 1\n",
            "El archivo FID-15.txt tiene alta similitud con el archivo genuino org-400.txt, Similitud: 0.7235, Status: 0\n",
            "Prediction:\n",
            " [0, 1, 1, 1, 0, 1, 0, 1, 1, 1, 0, 1, 0, 1, 0]\n",
            "True:\n",
            " [0, 1, 0, 1, 0, 1, 0, 1, 0, 1, 0, 1, 0, 1, 0]\n"
          ]
        }
      ]
    },
    {
      "cell_type": "markdown",
      "source": [
        "### Métricas del Modelo"
      ],
      "metadata": {
        "id": "XdRLFtibfIaj"
      }
    },
    {
      "cell_type": "code",
      "source": [
        "print('Accuracy Acore: {:.4f}'.format(accuracy_score(true_labels, pred_bigrama)))\n",
        "cf_mat = confusion_matrix(true_labels, pred_bigrama)\n",
        "print('Confusion Matrix')\n",
        "print(cf_mat)"
      ],
      "metadata": {
        "colab": {
          "base_uri": "https://localhost:8080/"
        },
        "outputId": "5a72b689-f6a7-4af7-bdd6-7625d77c667d",
        "id": "-ApdTro5fIak"
      },
      "execution_count": 42,
      "outputs": [
        {
          "output_type": "stream",
          "name": "stdout",
          "text": [
            "Accuracy Acore: 0.8667\n",
            "Confusion Matrix\n",
            "[[6 2]\n",
            " [0 7]]\n"
          ]
        }
      ]
    },
    {
      "cell_type": "code",
      "source": [
        "metricas(cf_mat)"
      ],
      "metadata": {
        "colab": {
          "base_uri": "https://localhost:8080/"
        },
        "outputId": "f179a396-741b-4ade-e6af-49c85c478ba8",
        "id": "7UAgBFTjfIal"
      },
      "execution_count": 43,
      "outputs": [
        {
          "output_type": "stream",
          "name": "stdout",
          "text": [
            "Precision: 0.7500\n",
            "Recall: 1.0000\n",
            "Specificity: 0.7778\n"
          ]
        }
      ]
    },
    {
      "cell_type": "markdown",
      "source": [
        "### AUC-ROC Curve"
      ],
      "metadata": {
        "id": "8QlRrnRBfIam"
      }
    },
    {
      "cell_type": "code",
      "source": [
        "plot_roc_curve(true_labels, pred_bigrama)\n",
        "print('AUC score: {:.4f}'.format(roc_auc_score(true_labels, pred_bigrama)))"
      ],
      "metadata": {
        "colab": {
          "base_uri": "https://localhost:8080/",
          "height": 466
        },
        "outputId": "b12ec73f-6d59-4b2b-a791-6fae07f00e10",
        "id": "BKxrQN5FfIam"
      },
      "execution_count": 44,
      "outputs": [
        {
          "output_type": "stream",
          "name": "stdout",
          "text": [
            "AUC score: 0.8750\n"
          ]
        },
        {
          "output_type": "display_data",
          "data": {
            "text/plain": [
              "<Figure size 640x480 with 1 Axes>"
            ],
            "image/png": "[encoded data removed]"
          },
          "metadata": {}
        }
      ]
    }
  ]
}