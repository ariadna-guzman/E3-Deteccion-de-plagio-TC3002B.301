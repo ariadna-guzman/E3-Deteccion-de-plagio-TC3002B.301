{
  "nbformat": 4,
  "nbformat_minor": 0,
  "metadata": {
    "colab": {
      "provenance": [],
      "authorship_tag": "ABX9TyPH9r4/blHVnp97b4/Ng4ZQ",
      "include_colab_link": true
    },
    "kernelspec": {
      "name": "python3",
      "display_name": "Python 3"
    },
    "language_info": {
      "name": "python"
    }
  },
  "cells": [
    {
      "cell_type": "markdown",
      "metadata": {
        "id": "view-in-github",
        "colab_type": "text"
      },
      "source": [
        "<a href=\"https://colab.research.google.com/github/ariadna-guzman/E3-Deteccion-de-plagio-TC3002B.301/blob/main/Evidencia_2_Modelo_Mejorado.ipynb\" target=\"_parent\"><img src=\"https://colab.research.google.com/assets/colab-badge.svg\" alt=\"Open In Colab\"/></a>"
      ]
    },
    {
      "cell_type": "markdown",
      "source": [
        "# Evidencia 2: Modelo Mejorado\n",
        "\n",
        "- Ariadna Jocelyn Guzmán Jiménez A01749373\n",
        "- Jorge Chávez Badillo A01749448\n",
        "- Amy Murakami Tsutsumi A01750185\n"
      ],
      "metadata": {
        "id": "eztatpdFI1Lx"
      }
    },
    {
      "cell_type": "code",
      "source": [],
      "metadata": {
        "id": "AmacCR_Y9h4U"
      },
      "execution_count": null,
      "outputs": []
    }
  ]
}