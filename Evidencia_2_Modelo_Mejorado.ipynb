{
  "nbformat": 4,
  "nbformat_minor": 0,
  "metadata": {
    "colab": {
      "provenance": [],
      "include_colab_link": true
    },
    "kernelspec": {
      "name": "python3",
      "display_name": "Python 3"
    },
    "language_info": {
      "name": "python"
    }
  },
  "cells": [
    {
      "cell_type": "markdown",
      "metadata": {
        "id": "view-in-github",
        "colab_type": "text"
      },
      "source": [
        "<a href=\"https://colab.research.google.com/github/ariadna-guzman/E3-Deteccion-de-plagio-TC3002B.301/blob/main/Evidencia_2_Modelo_Mejorado.ipynb\" target=\"_parent\"><img src=\"https://colab.research.google.com/assets/colab-badge.svg\" alt=\"Open In Colab\"/></a>"
      ]
    },
    {
      "cell_type": "markdown",
      "source": [
        "# Evidencia 2: Modelo Mejorado\n",
        "\n",
        "- Ariadna Jocelyn Guzmán Jiménez A01749373\n",
        "- Jorge Chávez Badillo A01749448\n",
        "- Amy Murakami Tsutsumi A01750185\n"
      ],
      "metadata": {
        "id": "eztatpdFI1Lx"
      }
    },
    {
      "cell_type": "markdown",
      "source": [
        "## Importación de librerías"
      ],
      "metadata": {
        "id": "AufBG2q7JsUN"
      }
    },
    {
      "cell_type": "code",
      "source": [
        "# Kit de herramientas de lenguaje natural\n",
        "import nltk \n",
        "from nltk.stem import PorterStemmer\n",
        "from nltk.util import ngrams\n",
        "# Para el cálculo de la distancia entre párrafos\n",
        "from sklearn.feature_extraction.text import CountVectorizer\n",
        "from sklearn.metrics import pairwise\n",
        "# Para la manipulación y lectura de archivos\n",
        "import os\n",
        "import matplotlib.pyplot as plt\n",
        "from sklearn.metrics import accuracy_score, confusion_matrix, roc_auc_score, roc_curve"
      ],
      "metadata": {
        "id": "YavA4LIGJxP8"
      },
      "execution_count": 3,
      "outputs": []
    },
    {
      "cell_type": "markdown",
      "source": [
        "## Importación de textos"
      ],
      "metadata": {
        "id": "hzt_3cvM-ZsL"
      }
    },
    {
      "cell_type": "code",
      "source": [
        "from google.colab import drive\n",
        "drive.mount('/content/drive')"
      ],
      "metadata": {
        "id": "AmacCR_Y9h4U",
        "colab": {
          "base_uri": "https://localhost:8080/"
        },
        "outputId": "7d681f87-386b-4d07-bfa3-894f4ac718de"
      },
      "execution_count": 4,
      "outputs": [
        {
          "output_type": "stream",
          "name": "stdout",
          "text": [
            "Drive already mounted at /content/drive; to attempt to forcibly remount, call drive.mount(\"/content/drive\", force_remount=True).\n"
          ]
        }
      ]
    },
    {
      "cell_type": "code",
      "source": [
        "genuinos = '/content/drive/Shareddrives/Desarrollo de Aplicaciones Avanzadas de Ciencias Computacionales/Reto/Evidencia 2/2023-Datasets/Etapa1/documentos-genuinos/'\n",
        "sospechosos = '/content/drive/Shareddrives/Desarrollo de Aplicaciones Avanzadas de Ciencias Computacionales/Reto/Evidencia 2/2023-Datasets/Etapa1/docmentos-sospechosos/'"
      ],
      "metadata": {
        "id": "JhEAJoNT-kQa"
      },
      "execution_count": 5,
      "outputs": []
    },
    {
      "cell_type": "markdown",
      "source": [
        "## Lemmatizer"
      ],
      "metadata": {
        "id": "vuwR-AAbK9le"
      }
    },
    {
      "cell_type": "code",
      "source": [
        "import nltk\n",
        "nltk.download(\"wordnet\")\n",
        "nltk.download(\"omw-1.4\")\n",
        "from nltk.stem import WordNetLemmatizer"
      ],
      "metadata": {
        "colab": {
          "base_uri": "https://localhost:8080/"
        },
        "id": "dgpHzpQBLHya",
        "outputId": "3e872368-fa04-4f58-9610-261f8dc2cc2d"
      },
      "execution_count": 7,
      "outputs": [
        {
          "output_type": "stream",
          "name": "stderr",
          "text": [
            "[nltk_data] Downloading package wordnet to /root/nltk_data...\n",
            "[nltk_data]   Package wordnet is already up-to-date!\n",
            "[nltk_data] Downloading package omw-1.4 to /root/nltk_data...\n"
          ]
        }
      ]
    },
    {
      "cell_type": "code",
      "source": [
        "#Función para aplicar lematización en los párrafos\n",
        "def lemm_parrafo(parrafo):\n",
        "  lemmatizer = WordNetLemmatizer()\n",
        "  parrafo_lemm = []\n",
        "\n",
        "  for palabra in parrafo: \n",
        "    palabra_lemm = lemmatizer.lemmatize(palabra)\n",
        "    parrafo_lemm.append(palabra_lemm)\n",
        "\n",
        "  parrafo_str = ' '.join(parrafo_lemm)\n",
        "  return parrafo_str"
      ],
      "metadata": {
        "id": "jHuc_EQQLbVY"
      },
      "execution_count": 8,
      "outputs": []
    },
    {
      "cell_type": "markdown",
      "source": [
        "## Stemming"
      ],
      "metadata": {
        "id": "GwwRgjuVJ_iG"
      }
    },
    {
      "cell_type": "code",
      "source": [
        "# Función para aplicar la herramienta de stemming a los párrafos\n",
        "def stemm_parrafo(parrafo):\n",
        "  stemmer = PorterStemmer()\n",
        "  parrafo = parrafo.split()\n",
        "  parrafo_stemm = []\n",
        "\n",
        "  for palabra in parrafo:\n",
        "    palabra_stem = stemmer.stem(palabra)\n",
        "    parrafo_stemm.append(palabra_stem)\n",
        "\n",
        "  parrafo_str = ' '.join(parrafo_stemm)\n",
        "  return parrafo_str"
      ],
      "metadata": {
        "id": "oysmaZS9-0JS"
      },
      "execution_count": 9,
      "outputs": []
    },
    {
      "cell_type": "code",
      "source": [],
      "metadata": {
        "id": "aOt6dozCML3p"
      },
      "execution_count": 9,
      "outputs": []
    }
  ]
}