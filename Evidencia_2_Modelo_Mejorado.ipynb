{
  "cells": [
    {
      "cell_type": "markdown",
      "metadata": {
        "id": "view-in-github",
        "colab_type": "text"
      },
      "source": [
        "<a href=\"https://colab.research.google.com/github/ariadna-guzman/E3-Deteccion-de-plagio-TC3002B.301/blob/main/Evidencia_2_Modelo_Mejorado.ipynb\" target=\"_parent\"><img src=\"https://colab.research.google.com/assets/colab-badge.svg\" alt=\"Open In Colab\"/></a>"
      ]
    },
    {
      "cell_type": "markdown",
      "metadata": {
        "id": "eztatpdFI1Lx"
      },
      "source": [
        "# Evidencia 2: Modelo Mejorado\n",
        "\n",
        "- Ariadna Jocelyn Guzmán Jiménez A01749373\n",
        "- Jorge Chávez Badillo A01749448\n",
        "- Amy Murakami Tsutsumi A01750185\n"
      ]
    },
    {
      "cell_type": "markdown",
      "metadata": {
        "id": "vdAvGXBgsLUD"
      },
      "source": [
        "## Instalación de Librerías"
      ]
    },
    {
      "cell_type": "code",
      "execution_count": null,
      "metadata": {
        "id": "kWJURrVQsPEh",
        "colab": {
          "base_uri": "https://localhost:8080/"
        },
        "outputId": "30961a35-da5c-431d-9917-f3ddf1d2785c"
      },
      "outputs": [
        {
          "output_type": "stream",
          "name": "stdout",
          "text": [
            "Looking in indexes: https://pypi.org/simple, https://us-python.pkg.dev/colab-wheels/public/simple/\n",
            "Requirement already satisfied: transformers in /usr/local/lib/python3.10/dist-packages (4.30.0)\n",
            "Requirement already satisfied: filelock in /usr/local/lib/python3.10/dist-packages (from transformers) (3.12.0)\n",
            "Requirement already satisfied: huggingface-hub<1.0,>=0.14.1 in /usr/local/lib/python3.10/dist-packages (from transformers) (0.15.1)\n",
            "Requirement already satisfied: numpy>=1.17 in /usr/local/lib/python3.10/dist-packages (from transformers) (1.22.4)\n",
            "Requirement already satisfied: packaging>=20.0 in /usr/local/lib/python3.10/dist-packages (from transformers) (23.1)\n",
            "Requirement already satisfied: pyyaml>=5.1 in /usr/local/lib/python3.10/dist-packages (from transformers) (6.0)\n",
            "Requirement already satisfied: regex!=2019.12.17 in /usr/local/lib/python3.10/dist-packages (from transformers) (2022.10.31)\n",
            "Requirement already satisfied: requests in /usr/local/lib/python3.10/dist-packages (from transformers) (2.27.1)\n",
            "Requirement already satisfied: tokenizers!=0.11.3,<0.14,>=0.11.1 in /usr/local/lib/python3.10/dist-packages (from transformers) (0.13.3)\n",
            "Requirement already satisfied: safetensors>=0.3.1 in /usr/local/lib/python3.10/dist-packages (from transformers) (0.3.1)\n",
            "Requirement already satisfied: tqdm>=4.27 in /usr/local/lib/python3.10/dist-packages (from transformers) (4.65.0)\n",
            "Requirement already satisfied: fsspec in /usr/local/lib/python3.10/dist-packages (from huggingface-hub<1.0,>=0.14.1->transformers) (2023.4.0)\n",
            "Requirement already satisfied: typing-extensions>=3.7.4.3 in /usr/local/lib/python3.10/dist-packages (from huggingface-hub<1.0,>=0.14.1->transformers) (4.5.0)\n",
            "Requirement already satisfied: urllib3<1.27,>=1.21.1 in /usr/local/lib/python3.10/dist-packages (from requests->transformers) (1.26.15)\n",
            "Requirement already satisfied: certifi>=2017.4.17 in /usr/local/lib/python3.10/dist-packages (from requests->transformers) (2022.12.7)\n",
            "Requirement already satisfied: charset-normalizer~=2.0.0 in /usr/local/lib/python3.10/dist-packages (from requests->transformers) (2.0.12)\n",
            "Requirement already satisfied: idna<4,>=2.5 in /usr/local/lib/python3.10/dist-packages (from requests->transformers) (3.4)\n"
          ]
        }
      ],
      "source": [
        "!pip install transformers"
      ]
    },
    {
      "cell_type": "code",
      "execution_count": null,
      "metadata": {
        "id": "1jM8BLc3sVsb"
      },
      "outputs": [],
      "source": [
        "!pip -q install sentencepiece"
      ]
    },
    {
      "cell_type": "code",
      "execution_count": null,
      "metadata": {
        "id": "1Lhyx6ZHsarO"
      },
      "outputs": [],
      "source": [
        "!pip -q install langdetect"
      ]
    },
    {
      "cell_type": "code",
      "execution_count": null,
      "metadata": {
        "colab": {
          "base_uri": "https://localhost:8080/"
        },
        "id": "TasqTcpctiCR",
        "outputId": "e9807400-bdb6-4de1-9d41-09c2a5c1b5e8"
      },
      "outputs": [
        {
          "output_type": "stream",
          "name": "stdout",
          "text": [
            "Looking in indexes: https://pypi.org/simple, https://us-python.pkg.dev/colab-wheels/public/simple/\n",
            "Requirement already satisfied: Keras-Preprocessing in /usr/local/lib/python3.10/dist-packages (1.1.2)\n",
            "Requirement already satisfied: numpy>=1.9.1 in /usr/local/lib/python3.10/dist-packages (from Keras-Preprocessing) (1.22.4)\n",
            "Requirement already satisfied: six>=1.9.0 in /usr/local/lib/python3.10/dist-packages (from Keras-Preprocessing) (1.16.0)\n"
          ]
        }
      ],
      "source": [
        "!pip install Keras-Preprocessing"
      ]
    },
    {
      "cell_type": "markdown",
      "metadata": {
        "id": "AufBG2q7JsUN"
      },
      "source": [
        "## Importación de Librerías"
      ]
    },
    {
      "cell_type": "code",
      "execution_count": null,
      "metadata": {
        "id": "YavA4LIGJxP8",
        "colab": {
          "base_uri": "https://localhost:8080/"
        },
        "outputId": "e88d05d4-7696-4b87-8eeb-5403b9f72c6e"
      },
      "outputs": [
        {
          "output_type": "stream",
          "name": "stderr",
          "text": [
            "[nltk_data] Downloading package wordnet to /root/nltk_data...\n",
            "[nltk_data]   Package wordnet is already up-to-date!\n",
            "[nltk_data] Downloading package omw-1.4 to /root/nltk_data...\n",
            "[nltk_data]   Package omw-1.4 is already up-to-date!\n"
          ]
        }
      ],
      "source": [
        "# Herramienta de lenguaje natural\n",
        "import torch\n",
        "import nltk\n",
        "nltk.download(\"wordnet\")\n",
        "nltk.download(\"omw-1.4\")\n",
        "from nltk.stem import WordNetLemmatizer\n",
        "import re\n",
        "# Para el cálculo de la distancia entre párrafos\n",
        "from sklearn.feature_extraction.text import CountVectorizer\n",
        "from sklearn.metrics.pairwise import cosine_similarity\n",
        "# Para la manipulación y lectura de archivos\n",
        "import os\n",
        "import matplotlib.pyplot as plt\n",
        "# Para la obtención de métricas de los modelos\n",
        "from sklearn import metrics\n",
        "from sklearn.metrics import accuracy_score, precision_score, recall_score, f1_score, confusion_matrix, roc_auc_score, roc_curve\n",
        "# Para la visualización, análisis y manipulación de los datos \n",
        "import pandas as pd\n",
        "from tqdm import tqdm \n",
        "# Para la creación de vectores y matrices\n",
        "import numpy as np\n",
        "from keras_preprocessing.sequence import pad_sequences\n",
        "# Implementación de BERT\n",
        "from transformers import BertTokenizer, AutoModelForSequenceClassification\n",
        "# Para la traducción de textos\n",
        "from transformers import MarianMTModel, MarianTokenizer\n",
        "from langdetect import detect, DetectorFactory"
      ]
    },
    {
      "cell_type": "markdown",
      "metadata": {
        "id": "hzt_3cvM-ZsL"
      },
      "source": [
        "## Importación de Textos"
      ]
    },
    {
      "cell_type": "code",
      "execution_count": null,
      "metadata": {
        "id": "AmacCR_Y9h4U",
        "colab": {
          "base_uri": "https://localhost:8080/"
        },
        "outputId": "7005cd14-2fc2-4929-ff86-4ad748f2338a"
      },
      "outputs": [
        {
          "output_type": "stream",
          "name": "stdout",
          "text": [
            "Drive already mounted at /content/drive; to attempt to forcibly remount, call drive.mount(\"/content/drive\", force_remount=True).\n"
          ]
        }
      ],
      "source": [
        "from google.colab import drive\n",
        "drive.mount('/content/drive')"
      ]
    },
    {
      "cell_type": "code",
      "execution_count": null,
      "metadata": {
        "id": "JhEAJoNT-kQa"
      },
      "outputs": [],
      "source": [
        "genuinos = '/content/drive/Shareddrives/Desarrollo de Aplicaciones Avanzadas de Ciencias Computacionales/Reto/Evidencia 2/2023-Datasets/Etapa1/documentos-genuinos/'\n",
        "sospechosos = '/content/drive/Shareddrives/Desarrollo de Aplicaciones Avanzadas de Ciencias Computacionales/Reto/Evidencia 2/2023-Datasets/Etapa1/docmentos-sospechosos/'"
      ]
    },
    {
      "cell_type": "markdown",
      "source": [
        "### Funciones para el Preprocesamiento de Datos"
      ],
      "metadata": {
        "id": "fZIKBMBl-X7m"
      }
    },
    {
      "cell_type": "code",
      "source": [
        "def clean_data(text):\n",
        "  '''\n",
        "  Función para eliminar caractertes especiales del texto.\n",
        "  '''\n",
        "  clean_text = re.sub(r'[^\\w\\s]', '', text)\n",
        "  clean_text = re.sub(r'\\n|\\,|\\.|\\;', '', text)\n",
        "  return clean_text"
      ],
      "metadata": {
        "id": "iaamGTF3tyOe"
      },
      "execution_count": null,
      "outputs": []
    },
    {
      "cell_type": "code",
      "source": [
        "def lemm_parrafo(text):\n",
        "  '''  \n",
        "  Función para aplicar lematización en los párrafos.\n",
        "  '''  \n",
        "  text = clean_data(text)\n",
        "  lemmatizer = WordNetLemmatizer()\n",
        "  parrafo_lemm = []\n",
        "\n",
        "  for palabra in text.split(' '): \n",
        "    palabra_lemm = lemmatizer.lemmatize(palabra)\n",
        "    parrafo_lemm.append(palabra_lemm)\n",
        "\n",
        "  parrafo_str = ' '.join(parrafo_lemm)\n",
        "  return parrafo_str"
      ],
      "metadata": {
        "id": "69g6tuCStzxd"
      },
      "execution_count": null,
      "outputs": []
    },
    {
      "cell_type": "code",
      "execution_count": null,
      "metadata": {
        "id": "Leh2eZFezfSg"
      },
      "outputs": [],
      "source": [
        "def create_frame(path):\n",
        "  '''\n",
        "  Función que crea el dataframe que contiene el nombre del archivo \n",
        "  y contenido para la carpeta de archivos (path) seleccionada.\n",
        "  '''\n",
        "  content = []\n",
        "  names = []\n",
        "  files_list = sorted(os.listdir(path))\n",
        "  for file_name in files_list:\n",
        "    with open(path + file_name, 'r') as file:\n",
        "      data = file.read().rstrip()\n",
        "      content.append(lemm_parrafo(data))\n",
        "      names.append(file_name)\n",
        "  dictionary = {'name': names, 'content': content}\n",
        "  df = pd.DataFrame(dictionary)\n",
        "  return df"
      ]
    },
    {
      "cell_type": "markdown",
      "metadata": {
        "id": "94puq6xMxB4U"
      },
      "source": [
        "### Creación del Data Frame de Archivos Genuinos"
      ]
    },
    {
      "cell_type": "markdown",
      "metadata": {
        "id": "t08T9WC1ogjo"
      },
      "source": [
        "Se muestran los primeros cinco documentos de la carpeta de documentos genuinos en el dataframe."
      ]
    },
    {
      "cell_type": "code",
      "execution_count": null,
      "metadata": {
        "colab": {
          "base_uri": "https://localhost:8080/",
          "height": 206
        },
        "id": "dRuWX0T52IX-",
        "outputId": "0f611075-0278-4211-8777-97966cb11c55"
      },
      "outputs": [
        {
          "output_type": "execute_result",
          "data": {
            "text/plain": [
              "          name                                            content\n",
              "0  org-300.txt  Automatic software plagiarism detection tool a...\n",
              "1  org-301.txt  A casual comment by a student alerted the auth...\n",
              "2  org-302.txt  Paraphrase type have been proposed by research...\n",
              "3  org-303.txt  This paper address the issue of text matching ...\n",
              "4  org-304.txt  This work present a Sentence Hashing Algorithm..."
            ],
            "text/html": [
              "\n",
              "  <div id=\"df-723fca77-46c5-4029-86b7-cded3b8a7fc6\">\n",
              "    <div class=\"colab-df-container\">\n",
              "      <div>\n",
              "<style scoped>\n",
              "    .dataframe tbody tr th:only-of-type {\n",
              "        vertical-align: middle;\n",
              "    }\n",
              "\n",
              "    .dataframe tbody tr th {\n",
              "        vertical-align: top;\n",
              "    }\n",
              "\n",
              "    .dataframe thead th {\n",
              "        text-align: right;\n",
              "    }\n",
              "</style>\n",
              "<table border=\"1\" class=\"dataframe\">\n",
              "  <thead>\n",
              "    <tr style=\"text-align: right;\">\n",
              "      <th></th>\n",
              "      <th>name</th>\n",
              "      <th>content</th>\n",
              "    </tr>\n",
              "  </thead>\n",
              "  <tbody>\n",
              "    <tr>\n",
              "      <th>0</th>\n",
              "      <td>org-300.txt</td>\n",
              "      <td>Automatic software plagiarism detection tool a...</td>\n",
              "    </tr>\n",
              "    <tr>\n",
              "      <th>1</th>\n",
              "      <td>org-301.txt</td>\n",
              "      <td>A casual comment by a student alerted the auth...</td>\n",
              "    </tr>\n",
              "    <tr>\n",
              "      <th>2</th>\n",
              "      <td>org-302.txt</td>\n",
              "      <td>Paraphrase type have been proposed by research...</td>\n",
              "    </tr>\n",
              "    <tr>\n",
              "      <th>3</th>\n",
              "      <td>org-303.txt</td>\n",
              "      <td>This paper address the issue of text matching ...</td>\n",
              "    </tr>\n",
              "    <tr>\n",
              "      <th>4</th>\n",
              "      <td>org-304.txt</td>\n",
              "      <td>This work present a Sentence Hashing Algorithm...</td>\n",
              "    </tr>\n",
              "  </tbody>\n",
              "</table>\n",
              "</div>\n",
              "      <button class=\"colab-df-convert\" onclick=\"convertToInteractive('df-723fca77-46c5-4029-86b7-cded3b8a7fc6')\"\n",
              "              title=\"Convert this dataframe to an interactive table.\"\n",
              "              style=\"display:none;\">\n",
              "        \n",
              "  <svg xmlns=\"http://www.w3.org/2000/svg\" height=\"24px\"viewBox=\"0 0 24 24\"\n",
              "       width=\"24px\">\n",
              "    <path d=\"M0 0h24v24H0V0z\" fill=\"none\"/>\n",
              "    <path d=\"M18.56 5.44l.94 2.06.94-2.06 2.06-.94-2.06-.94-.94-2.06-.94 2.06-2.06.94zm-11 1L8.5 8.5l.94-2.06 2.06-.94-2.06-.94L8.5 2.5l-.94 2.06-2.06.94zm10 10l.94 2.06.94-2.06 2.06-.94-2.06-.94-.94-2.06-.94 2.06-2.06.94z\"/><path d=\"M17.41 7.96l-1.37-1.37c-.4-.4-.92-.59-1.43-.59-.52 0-1.04.2-1.43.59L10.3 9.45l-7.72 7.72c-.78.78-.78 2.05 0 2.83L4 21.41c.39.39.9.59 1.41.59.51 0 1.02-.2 1.41-.59l7.78-7.78 2.81-2.81c.8-.78.8-2.07 0-2.86zM5.41 20L4 18.59l7.72-7.72 1.47 1.35L5.41 20z\"/>\n",
              "  </svg>\n",
              "      </button>\n",
              "      \n",
              "  <style>\n",
              "    .colab-df-container {\n",
              "      display:flex;\n",
              "      flex-wrap:wrap;\n",
              "      gap: 12px;\n",
              "    }\n",
              "\n",
              "    .colab-df-convert {\n",
              "      background-color: #E8F0FE;\n",
              "      border: none;\n",
              "      border-radius: 50%;\n",
              "      cursor: pointer;\n",
              "      display: none;\n",
              "      fill: #1967D2;\n",
              "      height: 32px;\n",
              "      padding: 0 0 0 0;\n",
              "      width: 32px;\n",
              "    }\n",
              "\n",
              "    .colab-df-convert:hover {\n",
              "      background-color: #E2EBFA;\n",
              "      box-shadow: 0px 1px 2px rgba(60, 64, 67, 0.3), 0px 1px 3px 1px rgba(60, 64, 67, 0.15);\n",
              "      fill: #174EA6;\n",
              "    }\n",
              "\n",
              "    [theme=dark] .colab-df-convert {\n",
              "      background-color: #3B4455;\n",
              "      fill: #D2E3FC;\n",
              "    }\n",
              "\n",
              "    [theme=dark] .colab-df-convert:hover {\n",
              "      background-color: #434B5C;\n",
              "      box-shadow: 0px 1px 3px 1px rgba(0, 0, 0, 0.15);\n",
              "      filter: drop-shadow(0px 1px 2px rgba(0, 0, 0, 0.3));\n",
              "      fill: #FFFFFF;\n",
              "    }\n",
              "  </style>\n",
              "\n",
              "      <script>\n",
              "        const buttonEl =\n",
              "          document.querySelector('#df-723fca77-46c5-4029-86b7-cded3b8a7fc6 button.colab-df-convert');\n",
              "        buttonEl.style.display =\n",
              "          google.colab.kernel.accessAllowed ? 'block' : 'none';\n",
              "\n",
              "        async function convertToInteractive(key) {\n",
              "          const element = document.querySelector('#df-723fca77-46c5-4029-86b7-cded3b8a7fc6');\n",
              "          const dataTable =\n",
              "            await google.colab.kernel.invokeFunction('convertToInteractive',\n",
              "                                                     [key], {});\n",
              "          if (!dataTable) return;\n",
              "\n",
              "          const docLinkHtml = 'Like what you see? Visit the ' +\n",
              "            '<a target=\"_blank\" href=https://colab.research.google.com/notebooks/data_table.ipynb>data table notebook</a>'\n",
              "            + ' to learn more about interactive tables.';\n",
              "          element.innerHTML = '';\n",
              "          dataTable['output_type'] = 'display_data';\n",
              "          await google.colab.output.renderOutput(dataTable, element);\n",
              "          const docLink = document.createElement('div');\n",
              "          docLink.innerHTML = docLinkHtml;\n",
              "          element.appendChild(docLink);\n",
              "        }\n",
              "      </script>\n",
              "    </div>\n",
              "  </div>\n",
              "  "
            ]
          },
          "metadata": {},
          "execution_count": 153
        }
      ],
      "source": [
        "df_genuinos = create_frame(genuinos)\n",
        "df_genuinos.head(5)"
      ]
    },
    {
      "cell_type": "markdown",
      "metadata": {
        "id": "-Xbh7iK33OIq"
      },
      "source": [
        "## Implementación de Bert\n",
        "\n",
        "*(Bidirectional Encoder Representations From Transformers)*"
      ]
    },
    {
      "cell_type": "code",
      "execution_count": null,
      "metadata": {
        "colab": {
          "base_uri": "https://localhost:8080/"
        },
        "id": "1OXfRZlA4BsU",
        "outputId": "e001e346-3091-4f9c-efbc-1714a517897d"
      },
      "outputs": [
        {
          "output_type": "stream",
          "name": "stderr",
          "text": [
            "Some weights of the model checkpoint at bert-base-uncased were not used when initializing BertForSequenceClassification: ['cls.predictions.transform.dense.bias', 'cls.predictions.transform.LayerNorm.weight', 'cls.predictions.bias', 'cls.seq_relationship.weight', 'cls.predictions.transform.LayerNorm.bias', 'cls.seq_relationship.bias', 'cls.predictions.transform.dense.weight']\n",
            "- This IS expected if you are initializing BertForSequenceClassification from the checkpoint of a model trained on another task or with another architecture (e.g. initializing a BertForSequenceClassification model from a BertForPreTraining model).\n",
            "- This IS NOT expected if you are initializing BertForSequenceClassification from the checkpoint of a model that you expect to be exactly identical (initializing a BertForSequenceClassification model from a BertForSequenceClassification model).\n",
            "Some weights of BertForSequenceClassification were not initialized from the model checkpoint at bert-base-uncased and are newly initialized: ['classifier.bias', 'classifier.weight']\n",
            "You should probably TRAIN this model on a down-stream task to be able to use it for predictions and inference.\n"
          ]
        }
      ],
      "source": [
        "model_name = 'bert-base-uncased'\n",
        "\n",
        "tokenizer = BertTokenizer.from_pretrained(model_name, do_lower_case = True)\n",
        "\n",
        "model = AutoModelForSequenceClassification.from_pretrained(model_name,\n",
        "                                                           output_attentions = False,\n",
        "                                                           output_hidden_states = True)"
      ]
    },
    {
      "cell_type": "markdown",
      "metadata": {
        "id": "H3iVNj-E5oeU"
      },
      "source": [
        "### Vectorización"
      ]
    },
    {
      "cell_type": "markdown",
      "metadata": {
        "id": "NE4ko3g55sTa"
      },
      "source": [
        "#### Por texto"
      ]
    },
    {
      "cell_type": "code",
      "execution_count": null,
      "metadata": {
        "id": "UnOgQOQr56j2"
      },
      "outputs": [],
      "source": [
        "def vectorize_text(tokenizer, model, abstract, MAX_LEN = 510):\n",
        "  '''\n",
        "  Función que genera la representación vectorial de un documento.\n",
        "  Recibe como parámetros el tokenizer, el modelo, el documento y \n",
        "  el número máximo de tokens. \n",
        "  '''\n",
        "  inputs = tokenizer.encode(abstract, \n",
        "                            add_special_tokens = True, \n",
        "                            max_length = MAX_LEN,)    \n",
        "\n",
        "  results = pad_sequences([inputs], \n",
        "                          maxlen=MAX_LEN, \n",
        "                          dtype=\"long\", \n",
        "                          truncating=\"post\", \n",
        "                          padding=\"post\")\n",
        "  inputs = results[0] # Eliminar lista exterior\n",
        "\n",
        "  # Máscaras\n",
        "  ''' for i in inputs:\n",
        "    mask = int(i>0)'''\n",
        "  mask = [int(i > 0) for i in inputs]\n",
        "\n",
        "  # Tensores\n",
        "  inputs = torch.tensor(inputs)\n",
        "  mask = torch.tensor(mask)\n",
        "\n",
        "  # Dimensión adicional para batch\n",
        "  inputs = inputs.unsqueeze(0)\n",
        "  mask = mask.unsqueeze(0)\n",
        "\n",
        "  # Evaluación de modelo\n",
        "  model.eval()\n",
        "\n",
        "  # Recopílación de estado a través de BERT\n",
        "  with torch.no_grad():        \n",
        "        logits, encoded_layers = model(input_ids = inputs, \n",
        "                                        token_type_ids = None, \n",
        "                                        attention_mask = mask,\n",
        "                                        return_dict = False)\n",
        "\n",
        "  layer_i = 12 # Última capa BERT antes de clasificación\n",
        "  batch_i = 0 # Entrada del batch\n",
        "  token_i = 0 # Primer token\n",
        "\n",
        "  # Extraer el vector\n",
        "  vector = encoded_layers[layer_i][batch_i][token_i]\n",
        "\n",
        "  # Numpy array\n",
        "  vector = vector.detach().cpu().numpy()\n",
        "\n",
        "  return vector"
      ]
    },
    {
      "cell_type": "markdown",
      "metadata": {
        "id": "ZmaUdLAL51Np"
      },
      "source": [
        "#### Base de Datos"
      ]
    },
    {
      "cell_type": "code",
      "execution_count": null,
      "metadata": {
        "id": "9a1RqCPO9o6I"
      },
      "outputs": [],
      "source": [
        "def vectorize_database(data):\n",
        "  '''\n",
        "  Función que genera una base de datos que contiene los vectores\n",
        "  de todos los documentos. \n",
        "  '''\n",
        "  vectors = []\n",
        "\n",
        "  # Obtención de datos generales del contenido\n",
        "  source = data.content.values\n",
        "\n",
        "  # Recorrer texto para la obtención de los embeddings\n",
        "  for content in tqdm(source):\n",
        "    # Obtener el embedding\n",
        "    vector = vectorize_text(tokenizer, model, content)\n",
        "    vectors.append(vector)\n",
        "  \n",
        "  data['vectors'] = vectors\n",
        "  data['vectors'] = data['vectors'].apply(lambda emb: np.array(emb))\n",
        "  data['vectors'] = data['vectors'].apply(lambda emb: emb.reshape(1, -1))\n",
        "  return data"
      ]
    },
    {
      "cell_type": "markdown",
      "metadata": {
        "id": "gA_g_mQ8F2kq"
      },
      "source": [
        "### Creación de Vector para los Archivos Genuinos"
      ]
    },
    {
      "cell_type": "code",
      "execution_count": null,
      "metadata": {
        "colab": {
          "base_uri": "https://localhost:8080/"
        },
        "id": "uMAeKsuCF2DD",
        "outputId": "992a92a0-9918-4b85-d048-79b2a0089bf9"
      },
      "outputs": [
        {
          "output_type": "stream",
          "name": "stderr",
          "text": [
            "  0%|          | 0/120 [00:00<?, ?it/s]Truncation was not explicitly activated but `max_length` is provided a specific value, please use `truncation=True` to explicitly truncate examples to max length. Defaulting to 'longest_first' truncation strategy. If you encode pairs of sequences (GLUE-style) with the tokenizer you can select this strategy more precisely by providing a specific strategy to `truncation`.\n",
            "100%|██████████| 120/120 [04:43<00:00,  2.37s/it]\n"
          ]
        }
      ],
      "source": [
        "vector_genuinos = vectorize_database(df_genuinos)"
      ]
    },
    {
      "cell_type": "code",
      "execution_count": null,
      "metadata": {
        "colab": {
          "base_uri": "https://localhost:8080/",
          "height": 206
        },
        "id": "q3K4i57BMAdo",
        "outputId": "16f07174-be5d-4892-ce18-5804bb2c6452"
      },
      "outputs": [
        {
          "output_type": "execute_result",
          "data": {
            "text/plain": [
              "          name                                            content  \\\n",
              "0  org-300.txt  Automatic software plagiarism detection tool a...   \n",
              "1  org-301.txt  A casual comment by a student alerted the auth...   \n",
              "2  org-302.txt  Paraphrase type have been proposed by research...   \n",
              "3  org-303.txt  This paper address the issue of text matching ...   \n",
              "4  org-304.txt  This work present a Sentence Hashing Algorithm...   \n",
              "\n",
              "                                             vectors  \n",
              "0  [[-0.7122702, 0.34844428, -0.13587844, -0.0483...  \n",
              "1  [[-0.859755, 0.11560044, -0.6182534, 0.1916422...  \n",
              "2  [[-0.8693308, 0.1778697, -0.57536095, -0.31688...  \n",
              "3  [[-0.8720792, 0.034670662, -0.55668145, 0.1511...  \n",
              "4  [[-0.6819566, -0.053224877, 0.27515307, -0.224...  "
            ],
            "text/html": [
              "\n",
              "  <div id=\"df-cdebbabb-be39-4f80-9e20-dbcc9ec37e8e\">\n",
              "    <div class=\"colab-df-container\">\n",
              "      <div>\n",
              "<style scoped>\n",
              "    .dataframe tbody tr th:only-of-type {\n",
              "        vertical-align: middle;\n",
              "    }\n",
              "\n",
              "    .dataframe tbody tr th {\n",
              "        vertical-align: top;\n",
              "    }\n",
              "\n",
              "    .dataframe thead th {\n",
              "        text-align: right;\n",
              "    }\n",
              "</style>\n",
              "<table border=\"1\" class=\"dataframe\">\n",
              "  <thead>\n",
              "    <tr style=\"text-align: right;\">\n",
              "      <th></th>\n",
              "      <th>name</th>\n",
              "      <th>content</th>\n",
              "      <th>vectors</th>\n",
              "    </tr>\n",
              "  </thead>\n",
              "  <tbody>\n",
              "    <tr>\n",
              "      <th>0</th>\n",
              "      <td>org-300.txt</td>\n",
              "      <td>Automatic software plagiarism detection tool a...</td>\n",
              "      <td>[[-0.7122702, 0.34844428, -0.13587844, -0.0483...</td>\n",
              "    </tr>\n",
              "    <tr>\n",
              "      <th>1</th>\n",
              "      <td>org-301.txt</td>\n",
              "      <td>A casual comment by a student alerted the auth...</td>\n",
              "      <td>[[-0.859755, 0.11560044, -0.6182534, 0.1916422...</td>\n",
              "    </tr>\n",
              "    <tr>\n",
              "      <th>2</th>\n",
              "      <td>org-302.txt</td>\n",
              "      <td>Paraphrase type have been proposed by research...</td>\n",
              "      <td>[[-0.8693308, 0.1778697, -0.57536095, -0.31688...</td>\n",
              "    </tr>\n",
              "    <tr>\n",
              "      <th>3</th>\n",
              "      <td>org-303.txt</td>\n",
              "      <td>This paper address the issue of text matching ...</td>\n",
              "      <td>[[-0.8720792, 0.034670662, -0.55668145, 0.1511...</td>\n",
              "    </tr>\n",
              "    <tr>\n",
              "      <th>4</th>\n",
              "      <td>org-304.txt</td>\n",
              "      <td>This work present a Sentence Hashing Algorithm...</td>\n",
              "      <td>[[-0.6819566, -0.053224877, 0.27515307, -0.224...</td>\n",
              "    </tr>\n",
              "  </tbody>\n",
              "</table>\n",
              "</div>\n",
              "      <button class=\"colab-df-convert\" onclick=\"convertToInteractive('df-cdebbabb-be39-4f80-9e20-dbcc9ec37e8e')\"\n",
              "              title=\"Convert this dataframe to an interactive table.\"\n",
              "              style=\"display:none;\">\n",
              "        \n",
              "  <svg xmlns=\"http://www.w3.org/2000/svg\" height=\"24px\"viewBox=\"0 0 24 24\"\n",
              "       width=\"24px\">\n",
              "    <path d=\"M0 0h24v24H0V0z\" fill=\"none\"/>\n",
              "    <path d=\"M18.56 5.44l.94 2.06.94-2.06 2.06-.94-2.06-.94-.94-2.06-.94 2.06-2.06.94zm-11 1L8.5 8.5l.94-2.06 2.06-.94-2.06-.94L8.5 2.5l-.94 2.06-2.06.94zm10 10l.94 2.06.94-2.06 2.06-.94-2.06-.94-.94-2.06-.94 2.06-2.06.94z\"/><path d=\"M17.41 7.96l-1.37-1.37c-.4-.4-.92-.59-1.43-.59-.52 0-1.04.2-1.43.59L10.3 9.45l-7.72 7.72c-.78.78-.78 2.05 0 2.83L4 21.41c.39.39.9.59 1.41.59.51 0 1.02-.2 1.41-.59l7.78-7.78 2.81-2.81c.8-.78.8-2.07 0-2.86zM5.41 20L4 18.59l7.72-7.72 1.47 1.35L5.41 20z\"/>\n",
              "  </svg>\n",
              "      </button>\n",
              "      \n",
              "  <style>\n",
              "    .colab-df-container {\n",
              "      display:flex;\n",
              "      flex-wrap:wrap;\n",
              "      gap: 12px;\n",
              "    }\n",
              "\n",
              "    .colab-df-convert {\n",
              "      background-color: #E8F0FE;\n",
              "      border: none;\n",
              "      border-radius: 50%;\n",
              "      cursor: pointer;\n",
              "      display: none;\n",
              "      fill: #1967D2;\n",
              "      height: 32px;\n",
              "      padding: 0 0 0 0;\n",
              "      width: 32px;\n",
              "    }\n",
              "\n",
              "    .colab-df-convert:hover {\n",
              "      background-color: #E2EBFA;\n",
              "      box-shadow: 0px 1px 2px rgba(60, 64, 67, 0.3), 0px 1px 3px 1px rgba(60, 64, 67, 0.15);\n",
              "      fill: #174EA6;\n",
              "    }\n",
              "\n",
              "    [theme=dark] .colab-df-convert {\n",
              "      background-color: #3B4455;\n",
              "      fill: #D2E3FC;\n",
              "    }\n",
              "\n",
              "    [theme=dark] .colab-df-convert:hover {\n",
              "      background-color: #434B5C;\n",
              "      box-shadow: 0px 1px 3px 1px rgba(0, 0, 0, 0.15);\n",
              "      filter: drop-shadow(0px 1px 2px rgba(0, 0, 0, 0.3));\n",
              "      fill: #FFFFFF;\n",
              "    }\n",
              "  </style>\n",
              "\n",
              "      <script>\n",
              "        const buttonEl =\n",
              "          document.querySelector('#df-cdebbabb-be39-4f80-9e20-dbcc9ec37e8e button.colab-df-convert');\n",
              "        buttonEl.style.display =\n",
              "          google.colab.kernel.accessAllowed ? 'block' : 'none';\n",
              "\n",
              "        async function convertToInteractive(key) {\n",
              "          const element = document.querySelector('#df-cdebbabb-be39-4f80-9e20-dbcc9ec37e8e');\n",
              "          const dataTable =\n",
              "            await google.colab.kernel.invokeFunction('convertToInteractive',\n",
              "                                                     [key], {});\n",
              "          if (!dataTable) return;\n",
              "\n",
              "          const docLinkHtml = 'Like what you see? Visit the ' +\n",
              "            '<a target=\"_blank\" href=https://colab.research.google.com/notebooks/data_table.ipynb>data table notebook</a>'\n",
              "            + ' to learn more about interactive tables.';\n",
              "          element.innerHTML = '';\n",
              "          dataTable['output_type'] = 'display_data';\n",
              "          await google.colab.output.renderOutput(dataTable, element);\n",
              "          const docLink = document.createElement('div');\n",
              "          docLink.innerHTML = docLinkHtml;\n",
              "          element.appendChild(docLink);\n",
              "        }\n",
              "      </script>\n",
              "    </div>\n",
              "  </div>\n",
              "  "
            ]
          },
          "metadata": {},
          "execution_count": 158
        }
      ],
      "source": [
        "vector_genuinos.head()"
      ]
    },
    {
      "cell_type": "markdown",
      "metadata": {
        "id": "vHMkOllIKGvC"
      },
      "source": [
        "## Funciones para la Detección de Plagio"
      ]
    },
    {
      "cell_type": "code",
      "execution_count": null,
      "metadata": {
        "id": "szyO5FcsKOAB"
      },
      "outputs": [],
      "source": [
        "def vectorize_cosine(sus_text):\n",
        "  '''\n",
        "  Función que crea un vector de acuerdo al texto de entrada \n",
        "  para ajustarlo para calcular la similitud de coseno.\n",
        "  '''\n",
        "  \n",
        "  sus_vect = vectorize_text(tokenizer, model, sus_text)\n",
        "  sus_vect = np.array(sus_vect)\n",
        "  sus_vect = sus_vect.reshape(1, -1)\n",
        "  return sus_vect"
      ]
    },
    {
      "cell_type": "code",
      "execution_count": null,
      "metadata": {
        "id": "gJe8VKwELrUa"
      },
      "outputs": [],
      "source": [
        "def detect_plagiarism(score, threshold):\n",
        "  '''\n",
        "  Función que determina si el texto es plagio o no de acuerdo \n",
        "  a un cierto umbral.\n",
        "  '''\n",
        "\n",
        "  status = 0\n",
        "\n",
        "  if(score >= threshold):\n",
        "    status = 1\n",
        "  \n",
        "  return status "
      ]
    },
    {
      "cell_type": "code",
      "execution_count": null,
      "metadata": {
        "id": "GSdA_pibNKcQ"
      },
      "outputs": [],
      "source": [
        "def plagiarism_analysis(sus_name, sus_text, database_vector, threshold):\n",
        "  '''\n",
        "  Función que regresa los resultados de la detección de plagio, señalando\n",
        "  los archivos comparados y el nivel de similitud obtenido.\n",
        "  '''\n",
        "\n",
        "  sus_vect = vectorize_cosine(sus_text)\n",
        "\n",
        "  # Similitud Coseno\n",
        "  database_vector['similarity'] = database_vector['vectors'].apply(\n",
        "      lambda x: cosine_similarity(sus_vect, x))\n",
        "  database_vector['similarity'] = database_vector['similarity'].apply(\n",
        "      lambda x: x[0][0])\n",
        "  \n",
        " # Top 5 Archivos similares  \n",
        "  similar_files = database_vector.sort_values(by = 'similarity', \n",
        "                                              ascending = False)[0:4]\n",
        "  df_result = similar_files[['name', \n",
        "                             'content', \n",
        "                             'similarity']].reset_index(drop = True)\n",
        "  \n",
        "  similarity_score = df_result.iloc[0]['similarity']\n",
        "  most_similar_f_name = df_result.iloc[0]['name']\n",
        "  most_similar_f_content = df_result.iloc[0]['content']\n",
        "  status = detect_plagiarism(similarity_score, threshold)\n",
        "\n",
        "\n",
        "  plagiarism_analysis = [sus_name, \n",
        "                         most_similar_f_name,\n",
        "                         status,\n",
        "                         similarity_score,\n",
        "                         most_similar_f_content,\n",
        "                         sus_text]\n",
        "\n",
        "  return plagiarism_analysis"
      ]
    },
    {
      "cell_type": "markdown",
      "metadata": {
        "id": "t62Tlc8yS2e_"
      },
      "source": [
        "## Detección de Plagio"
      ]
    },
    {
      "cell_type": "code",
      "execution_count": null,
      "metadata": {
        "colab": {
          "base_uri": "https://localhost:8080/",
          "height": 206
        },
        "id": "THST2Q9gS52_",
        "outputId": "2114e149-3ac0-4718-944f-544883b6c20d"
      },
      "outputs": [
        {
          "output_type": "execute_result",
          "data": {
            "text/plain": [
              "         name                                            content\n",
              "0  FID-01.txt  This systematic review provides unique finding...\n",
              "1  FID-02.txt  In this review we describe the application of ...\n",
              "2  FID-03.txt  How to measure similarity between two sequence...\n",
              "3  FID-04.txt  Text similarity measurement is the basis of na...\n",
              "4  FID-05.txt  Hoy en día el idioma ha dejado de ser una barr..."
            ],
            "text/html": [
              "\n",
              "  <div id=\"df-a80d41ea-8fa4-4289-b91a-4867ce3ec48d\">\n",
              "    <div class=\"colab-df-container\">\n",
              "      <div>\n",
              "<style scoped>\n",
              "    .dataframe tbody tr th:only-of-type {\n",
              "        vertical-align: middle;\n",
              "    }\n",
              "\n",
              "    .dataframe tbody tr th {\n",
              "        vertical-align: top;\n",
              "    }\n",
              "\n",
              "    .dataframe thead th {\n",
              "        text-align: right;\n",
              "    }\n",
              "</style>\n",
              "<table border=\"1\" class=\"dataframe\">\n",
              "  <thead>\n",
              "    <tr style=\"text-align: right;\">\n",
              "      <th></th>\n",
              "      <th>name</th>\n",
              "      <th>content</th>\n",
              "    </tr>\n",
              "  </thead>\n",
              "  <tbody>\n",
              "    <tr>\n",
              "      <th>0</th>\n",
              "      <td>FID-01.txt</td>\n",
              "      <td>This systematic review provides unique finding...</td>\n",
              "    </tr>\n",
              "    <tr>\n",
              "      <th>1</th>\n",
              "      <td>FID-02.txt</td>\n",
              "      <td>In this review we describe the application of ...</td>\n",
              "    </tr>\n",
              "    <tr>\n",
              "      <th>2</th>\n",
              "      <td>FID-03.txt</td>\n",
              "      <td>How to measure similarity between two sequence...</td>\n",
              "    </tr>\n",
              "    <tr>\n",
              "      <th>3</th>\n",
              "      <td>FID-04.txt</td>\n",
              "      <td>Text similarity measurement is the basis of na...</td>\n",
              "    </tr>\n",
              "    <tr>\n",
              "      <th>4</th>\n",
              "      <td>FID-05.txt</td>\n",
              "      <td>Hoy en día el idioma ha dejado de ser una barr...</td>\n",
              "    </tr>\n",
              "  </tbody>\n",
              "</table>\n",
              "</div>\n",
              "      <button class=\"colab-df-convert\" onclick=\"convertToInteractive('df-a80d41ea-8fa4-4289-b91a-4867ce3ec48d')\"\n",
              "              title=\"Convert this dataframe to an interactive table.\"\n",
              "              style=\"display:none;\">\n",
              "        \n",
              "  <svg xmlns=\"http://www.w3.org/2000/svg\" height=\"24px\"viewBox=\"0 0 24 24\"\n",
              "       width=\"24px\">\n",
              "    <path d=\"M0 0h24v24H0V0z\" fill=\"none\"/>\n",
              "    <path d=\"M18.56 5.44l.94 2.06.94-2.06 2.06-.94-2.06-.94-.94-2.06-.94 2.06-2.06.94zm-11 1L8.5 8.5l.94-2.06 2.06-.94-2.06-.94L8.5 2.5l-.94 2.06-2.06.94zm10 10l.94 2.06.94-2.06 2.06-.94-2.06-.94-.94-2.06-.94 2.06-2.06.94z\"/><path d=\"M17.41 7.96l-1.37-1.37c-.4-.4-.92-.59-1.43-.59-.52 0-1.04.2-1.43.59L10.3 9.45l-7.72 7.72c-.78.78-.78 2.05 0 2.83L4 21.41c.39.39.9.59 1.41.59.51 0 1.02-.2 1.41-.59l7.78-7.78 2.81-2.81c.8-.78.8-2.07 0-2.86zM5.41 20L4 18.59l7.72-7.72 1.47 1.35L5.41 20z\"/>\n",
              "  </svg>\n",
              "      </button>\n",
              "      \n",
              "  <style>\n",
              "    .colab-df-container {\n",
              "      display:flex;\n",
              "      flex-wrap:wrap;\n",
              "      gap: 12px;\n",
              "    }\n",
              "\n",
              "    .colab-df-convert {\n",
              "      background-color: #E8F0FE;\n",
              "      border: none;\n",
              "      border-radius: 50%;\n",
              "      cursor: pointer;\n",
              "      display: none;\n",
              "      fill: #1967D2;\n",
              "      height: 32px;\n",
              "      padding: 0 0 0 0;\n",
              "      width: 32px;\n",
              "    }\n",
              "\n",
              "    .colab-df-convert:hover {\n",
              "      background-color: #E2EBFA;\n",
              "      box-shadow: 0px 1px 2px rgba(60, 64, 67, 0.3), 0px 1px 3px 1px rgba(60, 64, 67, 0.15);\n",
              "      fill: #174EA6;\n",
              "    }\n",
              "\n",
              "    [theme=dark] .colab-df-convert {\n",
              "      background-color: #3B4455;\n",
              "      fill: #D2E3FC;\n",
              "    }\n",
              "\n",
              "    [theme=dark] .colab-df-convert:hover {\n",
              "      background-color: #434B5C;\n",
              "      box-shadow: 0px 1px 3px 1px rgba(0, 0, 0, 0.15);\n",
              "      filter: drop-shadow(0px 1px 2px rgba(0, 0, 0, 0.3));\n",
              "      fill: #FFFFFF;\n",
              "    }\n",
              "  </style>\n",
              "\n",
              "      <script>\n",
              "        const buttonEl =\n",
              "          document.querySelector('#df-a80d41ea-8fa4-4289-b91a-4867ce3ec48d button.colab-df-convert');\n",
              "        buttonEl.style.display =\n",
              "          google.colab.kernel.accessAllowed ? 'block' : 'none';\n",
              "\n",
              "        async function convertToInteractive(key) {\n",
              "          const element = document.querySelector('#df-a80d41ea-8fa4-4289-b91a-4867ce3ec48d');\n",
              "          const dataTable =\n",
              "            await google.colab.kernel.invokeFunction('convertToInteractive',\n",
              "                                                     [key], {});\n",
              "          if (!dataTable) return;\n",
              "\n",
              "          const docLinkHtml = 'Like what you see? Visit the ' +\n",
              "            '<a target=\"_blank\" href=https://colab.research.google.com/notebooks/data_table.ipynb>data table notebook</a>'\n",
              "            + ' to learn more about interactive tables.';\n",
              "          element.innerHTML = '';\n",
              "          dataTable['output_type'] = 'display_data';\n",
              "          await google.colab.output.renderOutput(dataTable, element);\n",
              "          const docLink = document.createElement('div');\n",
              "          docLink.innerHTML = docLinkHtml;\n",
              "          element.appendChild(docLink);\n",
              "        }\n",
              "      </script>\n",
              "    </div>\n",
              "  </div>\n",
              "  "
            ]
          },
          "metadata": {},
          "execution_count": 162
        }
      ],
      "source": [
        "df_sus = create_frame(sospechosos)\n",
        "df_sus.head()"
      ]
    },
    {
      "cell_type": "code",
      "execution_count": null,
      "metadata": {
        "colab": {
          "base_uri": "https://localhost:8080/"
        },
        "id": "CpCZ5uKRVJhi",
        "outputId": "4e531fc6-414c-4cf9-efe8-5907d46f09e7"
      },
      "outputs": [
        {
          "output_type": "execute_result",
          "data": {
            "text/plain": [
              "name                                              FID-04.txt\n",
              "content    Text similarity measurement is the basis of na...\n",
              "Name: 3, dtype: object"
            ]
          },
          "metadata": {},
          "execution_count": 163
        }
      ],
      "source": [
        "df_sus.iloc[3]"
      ]
    },
    {
      "cell_type": "code",
      "execution_count": null,
      "metadata": {
        "id": "cnJvg9YEzXMH"
      },
      "outputs": [],
      "source": [
        "'''\n",
        "Vector con los valores reales de los archivos sospechosos (1, 0)\n",
        "  1: Archivos Plagio\n",
        "  0: Archivos Genuinos\n",
        "'''\n",
        "name_sos = sorted(os.listdir(sospechosos))\n",
        "true_labels = []\n",
        "\n",
        "for i in name_sos:\n",
        "  if int(i[4:6]) % 2 == 0:\n",
        "    true_labels.append(0)\n",
        "  else:\n",
        "    true_labels.append(1)\n",
        "prediction_values = []\n",
        "prediction_score = []\n",
        "\n",
        "def sus_analysis(path_sus):\n",
        "  '''\n",
        "  Función que compara todos los archivos genuinos con todos los archivos \n",
        "  sospechosos. Muestra el archivo sospechoso, el estado, la similitud y \n",
        "  el archivo que tiene mayor similitud.\n",
        "  '''\n",
        "  df_sus = create_frame(path_sus)\n",
        "\n",
        "  for row in range(len(df_sus)):\n",
        "    name_sus = df_sus.iloc[row]['name']\n",
        "    content_sus = df_sus.iloc[row]['content']\n",
        "    analysis = plagiarism_analysis(name_sus, content_sus, vector_genuinos, 0.93)\n",
        "    print(\"=\"*30)\n",
        "    print('Nombre del archivo sospechoso:', analysis[0])\n",
        "    print('Nombre del archivo genuino similar:', analysis[1])\n",
        "    print('Status:', analysis[2])\n",
        "    print('Score de similitud:', analysis[3])\n",
        "    prediction_values.append(analysis[2])\n",
        "    prediction_score.append(analysis[3])\n",
        "  return"
      ]
    },
    {
      "cell_type": "code",
      "execution_count": null,
      "metadata": {
        "colab": {
          "base_uri": "https://localhost:8080/"
        },
        "id": "IjnQ8gpuKxY9",
        "outputId": "d35cb992-19bc-4c45-8a59-3344d04643f9"
      },
      "outputs": [
        {
          "output_type": "stream",
          "name": "stdout",
          "text": [
            "==============================\n",
            "Nombre del archivo sospechoso: FID-01.txt\n",
            "Nombre del archivo genuino similar: org-325.txt\n",
            "Status: 1\n",
            "Score de similitud: 0.9951241\n",
            "==============================\n",
            "Nombre del archivo sospechoso: FID-02.txt\n",
            "Nombre del archivo genuino similar: org-402.txt\n",
            "Status: 0\n",
            "Score de similitud: 0.92035645\n",
            "==============================\n",
            "Nombre del archivo sospechoso: FID-03.txt\n",
            "Nombre del archivo genuino similar: org-306.txt\n",
            "Status: 0\n",
            "Score de similitud: 0.91379523\n",
            "==============================\n",
            "Nombre del archivo sospechoso: FID-04.txt\n",
            "Nombre del archivo genuino similar: org-339.txt\n",
            "Status: 0\n",
            "Score de similitud: 0.9133811\n",
            "==============================\n",
            "Nombre del archivo sospechoso: FID-05.txt\n",
            "Nombre del archivo genuino similar: org-340.txt\n",
            "Status: 1\n",
            "Score de similitud: 0.9728546\n",
            "==============================\n",
            "Nombre del archivo sospechoso: FID-06.txt\n",
            "Nombre del archivo genuino similar: org-339.txt\n",
            "Status: 1\n",
            "Score de similitud: 0.9411098\n",
            "==============================\n",
            "Nombre del archivo sospechoso: FID-07.txt\n",
            "Nombre del archivo genuino similar: org-418.txt\n",
            "Status: 1\n",
            "Score de similitud: 0.93230796\n",
            "==============================\n",
            "Nombre del archivo sospechoso: FID-08.txt\n",
            "Nombre del archivo genuino similar: org-351.txt\n",
            "Status: 0\n",
            "Score de similitud: 0.929445\n",
            "==============================\n",
            "Nombre del archivo sospechoso: FID-09.txt\n",
            "Nombre del archivo genuino similar: org-366.txt\n",
            "Status: 1\n",
            "Score de similitud: 0.9310549\n",
            "==============================\n",
            "Nombre del archivo sospechoso: FID-10.txt\n",
            "Nombre del archivo genuino similar: org-354.txt\n",
            "Status: 0\n",
            "Score de similitud: 0.9262341\n",
            "==============================\n",
            "Nombre del archivo sospechoso: FID-11.txt\n",
            "Nombre del archivo genuino similar: org-372.txt\n",
            "Status: 1\n",
            "Score de similitud: 0.94530517\n",
            "==============================\n",
            "Nombre del archivo sospechoso: FID-12.txt\n",
            "Nombre del archivo genuino similar: org-339.txt\n",
            "Status: 0\n",
            "Score de similitud: 0.9088948\n",
            "==============================\n",
            "Nombre del archivo sospechoso: FID-13.txt\n",
            "Nombre del archivo genuino similar: org-396.txt\n",
            "Status: 1\n",
            "Score de similitud: 0.95588624\n",
            "==============================\n",
            "Nombre del archivo sospechoso: FID-14.txt\n",
            "Nombre del archivo genuino similar: org-380.txt\n",
            "Status: 0\n",
            "Score de similitud: 0.9196389\n",
            "==============================\n",
            "Nombre del archivo sospechoso: FID-15.txt\n",
            "Nombre del archivo genuino similar: org-400.txt\n",
            "Status: 1\n",
            "Score de similitud: 0.94353676\n"
          ]
        }
      ],
      "source": [
        "sus_analysis(sospechosos)"
      ]
    },
    {
      "cell_type": "code",
      "source": [
        "print(prediction_values)"
      ],
      "metadata": {
        "colab": {
          "base_uri": "https://localhost:8080/"
        },
        "id": "EzbZx60Jf749",
        "outputId": "c1c3a647-be75-487c-90d2-3fc6a6815b2e"
      },
      "execution_count": null,
      "outputs": [
        {
          "output_type": "stream",
          "name": "stdout",
          "text": [
            "[1, 0, 0, 0, 1, 1, 1, 0, 1, 0, 1, 0, 1, 0, 1]\n"
          ]
        }
      ]
    },
    {
      "cell_type": "code",
      "source": [
        "print('Accuracy Score: {:.4f}'.format(accuracy_score(true_labels, prediction_values)))"
      ],
      "metadata": {
        "colab": {
          "base_uri": "https://localhost:8080/"
        },
        "id": "EcQz0g2MgM-v",
        "outputId": "e9253436-237d-4438-9f49-c6a161994f29"
      },
      "execution_count": null,
      "outputs": [
        {
          "output_type": "stream",
          "name": "stdout",
          "text": [
            "Accuracy Score: 0.8667\n"
          ]
        }
      ]
    },
    {
      "cell_type": "markdown",
      "metadata": {
        "id": "BikhYmCzoDid"
      },
      "source": [
        "## Métricas del Modelo"
      ]
    },
    {
      "cell_type": "code",
      "execution_count": null,
      "metadata": {
        "id": "SprLjYyvRCsC"
      },
      "outputs": [],
      "source": [
        "def metricas(true_labels, prediction_values):\n",
        "  '''\n",
        "  Función para obtener las métricas del modelo a partir de\n",
        "  la matriz de confusión\n",
        "  '''\n",
        "  cf_mat = confusion_matrix(true_labels, prediction_values)\n",
        "  precision = cf_mat[0][0] / (cf_mat[0][0] + cf_mat[0][1])\n",
        "  recall = cf_mat[0][0] / (cf_mat[0][0] + cf_mat[1][0])\n",
        "  specificity = cf_mat[1][1] / (cf_mat[1][1] + cf_mat[0][1])\n",
        "\n",
        "  print('Precision: {:.4f}'.format(precision))\n",
        "  print('Recall: {:.4f}'.format(recall))\n",
        "  print('Specificity: {:.4f}'.format(specificity))\n",
        "  print('Accuracy Score: {:.4f}'.format(accuracy_score(true_labels, \n",
        "                                                       prediction_values)))\n",
        "  print('F1 Score : {:.4f}'.format(f1_score(true_labels, \n",
        "                                                 prediction_values)))\n",
        "  print('Confusion Matrix:')\n",
        "  print(cf_mat)\n",
        "\n",
        "  cm_display = metrics.ConfusionMatrixDisplay(confusion_matrix = cf_mat, display_labels = [False, True])\n",
        "  cm_display.plot()\n",
        "  plt.show() "
      ]
    },
    {
      "cell_type": "code",
      "source": [
        "def plot_roc_curve(true_y, y_prob):\n",
        "    '''\n",
        "    Función para gráficar la AUC-ROC\n",
        "    '''\n",
        "    fpr, tpr, thresholds = roc_curve(true_y, y_prob)\n",
        "    plt.plot(fpr, tpr)\n",
        "    plt.xlabel('False Positive Rate')\n",
        "    plt.ylabel('True Positive Rate')"
      ],
      "metadata": {
        "id": "2xSQNNpGWo5o"
      },
      "execution_count": null,
      "outputs": []
    },
    {
      "cell_type": "code",
      "source": [
        "metricas(true_labels, prediction_values)"
      ],
      "metadata": {
        "colab": {
          "base_uri": "https://localhost:8080/",
          "height": 602
        },
        "id": "Blg1I265A2j0",
        "outputId": "bc41fc7f-a2a5-4f60-b1e1-9047ca7ec1f0"
      },
      "execution_count": null,
      "outputs": [
        {
          "output_type": "stream",
          "name": "stdout",
          "text": [
            "Precision: 0.8571\n",
            "Recall: 0.8571\n",
            "Specificity: 0.8750\n",
            "Accuracy Score: 0.8667\n",
            "F1 Score : 0.8750\n",
            "Confusion Matrix:\n",
            "[[6 1]\n",
            " [1 7]]\n"
          ]
        },
        {
          "output_type": "display_data",
          "data": {
            "text/plain": [
              "<Figure size 640x480 with 2 Axes>"
            ],
            "image/png": "[encoded data removed]"
          },
          "metadata": {}
        }
      ]
    },
    {
      "cell_type": "markdown",
      "source": [
        "### AUC-ROC Curve"
      ],
      "metadata": {
        "id": "AjAZdco5WgvT"
      }
    },
    {
      "cell_type": "code",
      "source": [
        "plot_roc_curve(true_labels, prediction_values)\n",
        "print('AUC score: {:.4f}'.format(roc_auc_score(true_labels, prediction_values)))"
      ],
      "metadata": {
        "id": "ZRXnO-pJWt5i",
        "colab": {
          "base_uri": "https://localhost:8080/",
          "height": 467
        },
        "outputId": "b488505d-79a0-4ccb-9f5e-563e96c060a8"
      },
      "execution_count": null,
      "outputs": [
        {
          "output_type": "stream",
          "name": "stdout",
          "text": [
            "AUC score: 0.8661\n"
          ]
        },
        {
          "output_type": "display_data",
          "data": {
            "text/plain": [
              "<Figure size 640x480 with 1 Axes>"
            ],
            "image/png": "[encoded data removed]"
          },
          "metadata": {}
        }
      ]
    },
    {
      "cell_type": "markdown",
      "metadata": {
        "id": "U0qmbGqGX5eN"
      },
      "source": [
        "## Conclusiones"
      ]
    },
    {
      "cell_type": "markdown",
      "source": [
        "En conclusión, el análisis de detección de plagio utilizando la lematización y BERT en Python es una estrategia más efectiva para identificar similitudes y posibles casos de plagio en documentos o textos. La lematización permite reducir las palabras a su forma base, lo que ayuda a agrupar términos similares y minimizar las variaciones léxicas. Por otro lado, BERT es un modelo de lenguaje pre entrenado que captura el contexto y las relaciones semánticas entre las palabras.\n",
        "\n",
        "A comparación de la evidencia 1,el combinar la lematización con BERT este entregable marcó una diferencia significativa, ya que se logró un enfoque más preciso para detectar el plagio gracias a una comprensión más profunda del significado de las palabras y las estructuras gramaticales. Esto permite identificar similitudes incluso si las palabras han sido modificadas o reorganizadas en cierta medida.\n",
        "\n",
        "Finalmente, dada nuestra implementación, se considera como plan a futuro poder agregar más funciones que aporten a nuestro modelo mayor valor agregado. Por ejemplo, considerar la librería de Python langdetect para poder detectar el plagio en textos traducidos, considerando que este también es un tipo de plagio que se encuentra comúnmente."
      ],
      "metadata": {
        "id": "Zs7Jlk7oKu08"
      }
    }
  ],
  "metadata": {
    "colab": {
      "provenance": [],
      "include_colab_link": true
    },
    "kernelspec": {
      "display_name": "Python 3",
      "name": "python3"
    },
    "language_info": {
      "name": "python"
    }
  },
  "nbformat": 4,
  "nbformat_minor": 0
}